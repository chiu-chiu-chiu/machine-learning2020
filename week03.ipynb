{
 "cells": [
  {
   "cell_type": "code",
   "execution_count": null,
   "metadata": {},
   "outputs": [],
   "source": []
  },
  {
   "cell_type": "markdown",
   "metadata": {},
   "source": [
    "%matplotlib inline的作用是當你調用matplotlib.pyplot的繪圖函數plot()進行繪圖的時候，或者生成一個figure畫布的時候，可以直接在你的python console裏面生成圖像，如果你是在spyder的話就不用加這行。"
   ]
  },
  {
   "cell_type": "code",
   "execution_count": 34,
   "metadata": {},
   "outputs": [],
   "source": [
    "%matplotlib inline"
   ]
  },
  {
   "cell_type": "code",
   "execution_count": 35,
   "metadata": {},
   "outputs": [],
   "source": [
    "import numpy as np\n",
    "import matplotlib.pyplot as plt\n",
    "import pandas as pd"
   ]
  },
  {
   "cell_type": "markdown",
   "metadata": {},
   "source": [
    "# Importing the dataset"
   ]
  },
  {
   "cell_type": "code",
   "execution_count": 36,
   "metadata": {},
   "outputs": [
    {
     "name": "stdout",
     "output_type": "stream",
     "text": [
      "Index(['Pretty Formula', 'Density', 'Band Gap'], dtype='object')\n",
      "Index(['Pretty Formula', 'Density', 'Band Gap'], dtype='object')\n"
     ]
    }
   ],
   "source": [
    "dataset = pd.read_csv('data.csv')\n",
    "\n",
    "print(dataset.keys())\n",
    "print(dataset.columns)"
   ]
  },
  {
   "cell_type": "code",
   "execution_count": 37,
   "metadata": {},
   "outputs": [
    {
     "name": "stdout",
     "output_type": "stream",
     "text": [
      "(501, 1) (501,)\n",
      "[[0.81439573]\n",
      " [0.80753451]\n",
      " [0.81159897]\n",
      " [1.40926976]\n",
      " [1.33681125]\n",
      " [1.83476737]\n",
      " [1.72154091]\n",
      " [1.39438019]\n",
      " [1.45010264]]\n",
      "[3.018  5.3418 3.6983 3.091  4.1598 4.1525 6.7187 3.7974 3.6284]\n"
     ]
    }
   ],
   "source": [
    "X = dataset.iloc[:,1:2].values\n",
    "y = dataset.iloc[:,2].values\n",
    "\n",
    "print(X.shape, y.shape)\n",
    "print(X[0:9])\n",
    "print(y[0:9])"
   ]
  },
  {
   "cell_type": "code",
   "execution_count": 38,
   "metadata": {},
   "outputs": [
    {
     "name": "stdout",
     "output_type": "stream",
     "text": [
      "no numeric data to plot\n"
     ]
    },
    {
     "data": {
      "image/png": "[encoded data removed]",
      "text/plain": [
       "<Figure size 1800x360 with 2 Axes>"
      ]
     },
     "metadata": {},
     "output_type": "display_data"
    }
   ],
   "source": [
    "import math\n",
    "import matplotlib.gridspec as gridspec\n",
    "\n",
    "N = len(list(dataset.keys()))\n",
    "cols = 5\n",
    "rows = int(math.ceil(N / cols))\n",
    "#print(N, cols, rows)\n",
    "\n",
    "fig = plt.figure(figsize=(cols*5, rows*5), facecolor='w')\n",
    "gs = gridspec.GridSpec(rows, cols)\n",
    "i=0\n",
    "feature=dataset[['Pretty Formula', 'Density']]\n",
    "for item in feature.columns:\n",
    "    ax = fig.add_subplot(gs[i])\n",
    "    ax.set_title(item, fontsize=18)\n",
    "    try:\n",
    "        dataset[item].plot.hist()\n",
    "    except TypeError:\n",
    "        print(\"no numeric data to plot\")\n",
    "    finally:\n",
    "        i+=1"
   ]
  },
  {
   "cell_type": "code",
   "execution_count": 39,
   "metadata": {},
   "outputs": [
    {
     "data": {
      "image/png": "[encoded data removed]",
      "text/plain": [
       "<Figure size 1800x360 with 1 Axes>"
      ]
     },
     "metadata": {},
     "output_type": "display_data"
    }
   ],
   "source": [
    "N = len(list(dataset.keys()))\n",
    "cols = 5\n",
    "rows = int(math.ceil(N / cols))\n",
    "#print(N, cols, rows)\n",
    "\n",
    "fig = plt.figure(figsize=(cols*5, rows*5), facecolor='w')\n",
    "gs = gridspec.GridSpec(rows, cols)\n",
    "i=0\n",
    "target=dataset[['Band Gap']]\n",
    "for item in target.columns:\n",
    "    ax = fig.add_subplot(gs[i])\n",
    "    ax.set_title(item, fontsize=18)\n",
    "    try:\n",
    "        dataset[item].plot.hist()\n",
    "    except TypeError:\n",
    "        print(\"no numeric data to plot\")\n",
    "    finally:\n",
    "        i+=1"
   ]
  },
  {
   "cell_type": "markdown",
   "metadata": {},
   "source": [
    "# Splitting the dataset into the Training set and Test set\n",
    "![holdout](https://cdn-images-1.medium.com/max/640/1*4G__SV580CxFj78o9yUXuQ.png)"
   ]
  },
  {
   "cell_type": "code",
   "execution_count": 40,
   "metadata": {},
   "outputs": [],
   "source": [
    "from sklearn.model_selection import train_test_split\n",
    "X_train, X_test, y_train, y_test = train_test_split(X, y, test_size = 0.2, random_state = 0)"
   ]
  },
  {
   "cell_type": "markdown",
   "metadata": {},
   "source": [
    "# Fitting the Regression Model to the dataset"
   ]
  },
  {
   "cell_type": "code",
   "execution_count": 41,
   "metadata": {},
   "outputs": [
    {
     "data": {
      "text/plain": [
       "RandomForestRegressor(bootstrap=True, ccp_alpha=0.0, criterion='mse',\n",
       "                      max_depth=None, max_features='auto', max_leaf_nodes=None,\n",
       "                      max_samples=None, min_impurity_decrease=0.0,\n",
       "                      min_impurity_split=None, min_samples_leaf=1,\n",
       "                      min_samples_split=2, min_weight_fraction_leaf=0.0,\n",
       "                      n_estimators=100, n_jobs=None, oob_score=False,\n",
       "                      random_state=0, verbose=0, warm_start=False)"
      ]
     },
     "execution_count": 41,
     "metadata": {},
     "output_type": "execute_result"
    }
   ],
   "source": [
    "from sklearn.ensemble import RandomForestRegressor\n",
    "regressor = RandomForestRegressor(n_estimators=100, random_state=0, )\n",
    "regressor.fit(X_train, y_train)"
   ]
  },
  {
   "cell_type": "markdown",
   "metadata": {},
   "source": [
    "# Visualising the Regression results for higher and smoother curve"
   ]
  },
  {
   "cell_type": "code",
   "execution_count": 42,
   "metadata": {},
   "outputs": [
    {
     "name": "stdout",
     "output_type": "stream",
     "text": [
      "The caculated bandgap is: 1.8eV\n",
      "The predictive bandgap is:  [0.382198]\n"
     ]
    },
    {
     "data": {
      "image/png": "[encoded data removed]",
      "text/plain": [
       "<Figure size 432x288 with 1 Axes>"
      ]
     },
     "metadata": {
      "needs_background": "light"
     },
     "output_type": "display_data"
    }
   ],
   "source": [
    "X_grid = np.arange(min(X_train), max(X_train), 0.01)\n",
    "X_grid = X_grid.reshape(len(X_grid), 1)\n",
    "plt.scatter(X_train, y_train, color = 'gray')\n",
    "plt.plot(X_grid, regressor.predict(X_grid), color='blue')\n",
    "plt.title('Random Forest Regression')\n",
    "plt.xlabel('Density [eV]')\n",
    "plt.ylabel('Band Gap [eV]')\n",
    "#density of MoS2 : 5.06 g/cm³\n",
    "test = np.array([5.06])\n",
    "test = test.reshape(len(test), 1)\n",
    "print(\"The caculated bandgap is: 1.8eV\", )\n",
    "y_pred=regressor.predict(test)\n",
    "print(\"The predictive bandgap is: \",y_pred)\n",
    "plt.scatter(test, y_pred, marker='^', color='red')\n",
    "plt.show()"
   ]
  },
  {
   "cell_type": "code",
   "execution_count": 43,
   "metadata": {},
   "outputs": [
    {
     "name": "stdout",
     "output_type": "stream",
     "text": [
      "The predictive bandgap is:  [1.63550898]\n"
     ]
    }
   ],
   "source": [
    "from sklearn import linear_model\n",
    "lr = linear_model.LinearRegression()\n",
    "\n",
    "lr.fit(X_train, y_train)\n",
    "y_pred = lr.predict(test)\n",
    "print(\"The predictive bandgap is: \",y_pred)"
   ]
  },
  {
   "cell_type": "code",
   "execution_count": 44,
   "metadata": {},
   "outputs": [],
   "source": [
    "lasso = linear_model.Lasso()"
   ]
  },
  {
   "cell_type": "code",
   "execution_count": 45,
   "metadata": {},
   "outputs": [],
   "source": [
    "rr = linear_model.Ridge()"
   ]
  },
  {
   "cell_type": "code",
   "execution_count": 46,
   "metadata": {},
   "outputs": [
    {
     "name": "stdout",
     "output_type": "stream",
     "text": [
      "The predictive bandgap is:  [1.56621821]\n"
     ]
    }
   ],
   "source": [
    "from sklearn.neural_network import MLPRegressor\n",
    "mlpr =  MLPRegressor(hidden_layer_sizes=(5, 3), activation='relu', solver='adam', alpha=0.0001, batch_size='auto', learning_rate_init=0.001, max_iter=10000, random_state=497)\n",
    "mlpr.fit(X_train, y_train)\n",
    "y_pred = mlpr.predict(test)\n",
    "print(\"The predictive bandgap is: \",y_pred)"
   ]
  },
  {
   "cell_type": "markdown",
   "metadata": {},
   "source": []
  },
  {
   "cell_type": "code",
   "execution_count": 77,
   "metadata": {},
   "outputs": [
    {
     "name": "stdout",
     "output_type": "stream",
     "text": [
      "The predictive bandgap is:  [1.78895656]\n"
     ]
    }
   ],
   "source": [
    "# change MLP regressor papameters\n",
    "from sklearn.neural_network import MLPRegressor\n",
    "mlpr =  MLPRegressor(hidden_layer_sizes=(5, 20), activation='tanh', solver='sgd', alpha=0.0001, batch_size='auto', learning_rate='constant',learning_rate_init=0.001, max_iter=10000, random_state=497)\n",
    "mlpr.fit(X_train, y_train)\n",
    "y_pred = mlpr.predict(test)\n",
    "print(\"The predictive bandgap is: \",y_pred)"
   ]
  },
  {
   "cell_type": "code",
   "execution_count": 55,
   "metadata": {},
   "outputs": [
    {
     "name": "stdout",
     "output_type": "stream",
     "text": [
      "The predictive bandgap is:  [1.64446495]\n"
     ]
    }
   ],
   "source": [
    "# Lasso linear model\n",
    "from sklearn import linear_model\n",
    "reg_lasso = linear_model.Lasso(alpha=0.1)\n",
    "reg_lasso.fit(X_train, y_train)\n",
    "y_pred =reg_lasso.predict(test)\n",
    "print(\"The predictive bandgap is: \",y_pred)"
   ]
  },
  {
   "cell_type": "code",
   "execution_count": 49,
   "metadata": {},
   "outputs": [
    {
     "name": "stdout",
     "output_type": "stream",
     "text": [
      "The predictive bandgap is:  [1.65006209]\n"
     ]
    }
   ],
   "source": [
    "# BayesianRidge linear model\n",
    "from sklearn import linear_model\n",
    "reg_br = linear_model.BayesianRidge()\n",
    "reg_br.fit(X_train, y_train)\n",
    "y_pred =reg_br.predict(test)\n",
    "print(\"The predictive bandgap is: \",y_pred)"
   ]
  },
  {
   "cell_type": "code",
   "execution_count": null,
   "metadata": {},
   "outputs": [],
   "source": []
  }
 ],
 "metadata": {
  "kernelspec": {
   "display_name": "Python 3",
   "language": "python",
   "name": "python3"
  },
  "language_info": {
   "codemirror_mode": {
    "name": "ipython",
    "version": 3
   },
   "file_extension": ".py",
   "mimetype": "text/x-python",
   "name": "python",
   "nbconvert_exporter": "python",
   "pygments_lexer": "ipython3",
   "version": "3.7.6"
  }
 },
 "nbformat": 4,
 "nbformat_minor": 4
}
